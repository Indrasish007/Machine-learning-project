{
  "cells": [
    {
      "cell_type": "markdown",
      "metadata": {
        "id": "view-in-github",
        "colab_type": "text"
      },
      "source": [
        "<a href=\"https://colab.research.google.com/github/Indrasish007/Machine-learning-project/blob/main/demo.ipynb\" target=\"_parent\"><img src=\"https://colab.research.google.com/assets/colab-badge.svg\" alt=\"Open In Colab\"/></a>"
      ]
    },
    {
      "cell_type": "code",
      "execution_count": null,
      "metadata": {
        "id": "LLR3a47-nbyJ",
        "outputId": "7dde1d8c-f957-41b9-824b-000cfc348ccd"
      },
      "outputs": [
        {
          "name": "stdout",
          "output_type": "stream",
          "text": [
            "the first planet is  mars\n",
            "the second planet is  earth\n"
          ]
        }
      ],
      "source": [
        "planet1 ='earth'\n",
        "planet2 ='mars'\n",
        "planet2,planet1=planet1,planet2\n",
        "print(\"the first planet is \",planet1)\n",
        "print(\"the second planet is \",planet2)"
      ]
    },
    {
      "cell_type": "code",
      "execution_count": 1,
      "metadata": {
        "colab": {
          "base_uri": "https://localhost:8080/"
        },
        "id": "ObAwGuPGnbyL",
        "outputId": "338c3c7e-6093-4d66-83f3-999966043075"
      },
      "outputs": [
        {
          "output_type": "stream",
          "name": "stdout",
          "text": [
            "the first planet is  mars\n",
            "the second planet is  indra\n"
          ]
        }
      ],
      "source": [
        "planet1 ='indra'\n",
        "planet2 ='mars'\n",
        "planet2,planet1=planet1,planet2\n",
        "print(\"the first planet is \",planet1)\n",
        "print(\"the second planet is \",planet2)"
      ]
    },
    {
      "cell_type": "code",
      "source": [
        "planet1 ='ending'\n",
        "planet2 ='mars'\n",
        "planet2,planet1=planet1,planet2\n",
        "print(\"the first planet is \",planet1)\n",
        "print(\"the second planet is \",planet2)"
      ],
      "metadata": {
        "colab": {
          "base_uri": "https://localhost:8080/"
        },
        "id": "XY8cTKaEprXg",
        "outputId": "1b1a7ab9-2555-4c20-b797-3786cab196d1"
      },
      "execution_count": 2,
      "outputs": [
        {
          "output_type": "stream",
          "name": "stdout",
          "text": [
            "the first planet is  mars\n",
            "the second planet is  ending\n"
          ]
        }
      ]
    }
  ],
  "metadata": {
    "kernelspec": {
      "display_name": "Python 3",
      "language": "python",
      "name": "python3"
    },
    "language_info": {
      "codemirror_mode": {
        "name": "ipython",
        "version": 3
      },
      "file_extension": ".py",
      "mimetype": "text/x-python",
      "name": "python",
      "nbconvert_exporter": "python",
      "pygments_lexer": "ipython3",
      "version": "3.12.2"
    },
    "colab": {
      "provenance": [],
      "include_colab_link": true
    }
  },
  "nbformat": 4,
  "nbformat_minor": 0
}