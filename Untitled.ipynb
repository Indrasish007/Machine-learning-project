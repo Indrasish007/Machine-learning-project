{
 "cells": [
  {
   "cell_type": "code",
   "execution_count": 1,
   "id": "bc2941a4-ec67-466f-b851-ccb701978e29",
   "metadata": {},
   "outputs": [
    {
     "name": "stdout",
     "output_type": "stream",
     "text": [
      "the first planet is  mars\n",
      "the second planet is  earth\n"
     ]
    }
   ],
   "source": [
    "planet1 ='earth'\n",
    "planet2 ='mars'\n",
    "planet2,planet1=planet1,planet2\n",
    "print(\"the first planet is \",planet1)\n",
    "print(\"the second planet is \",planet2)"
   ]
  },
  {
   "cell_type": "code",
   "execution_count": null,
   "id": "790789e9-ed4d-4ae6-8bf9-29a085f5eac5",
   "metadata": {},
   "outputs": [],
   "source": []
  }
 ],
 "metadata": {
  "kernelspec": {
   "display_name": "Python 3 (ipykernel)",
   "language": "python",
   "name": "python3"
  },
  "language_info": {
   "codemirror_mode": {
    "name": "ipython",
    "version": 3
   },
   "file_extension": ".py",
   "mimetype": "text/x-python",
   "name": "python",
   "nbconvert_exporter": "python",
   "pygments_lexer": "ipython3",
   "version": "3.12.2"
  }
 },
 "nbformat": 4,
 "nbformat_minor": 5
}
